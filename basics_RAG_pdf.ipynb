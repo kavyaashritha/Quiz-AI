{
 "cells": [
  {
   "cell_type": "markdown",
   "id": "ad9b4b85-9d17-468c-b244-73a1c5191e3e",
   "metadata": {},
   "source": [
    "# RAG application built on gemini "
   ]
  },
  {
   "cell_type": "code",
   "execution_count": 1,
   "id": "7d49c22a-1ad0-4395-b93b-aa95660aa026",
   "metadata": {},
   "outputs": [],
   "source": [
    "from langchain_community.document_loaders import PyPDFLoader\n",
    "\n",
    "loader = PyPDFLoader(\"Introduction to Software Testing.pdf\")\n",
    "data = loader.load()  # entire PDF is loaded as a single Document\n",
    "#data"
   ]
  },
  {
   "cell_type": "code",
   "execution_count": 2,
   "id": "a374eb7c-e262-42bb-8f3f-308ba7dcdbe4",
   "metadata": {},
   "outputs": [
    {
     "data": {
      "text/plain": [
       "346"
      ]
     },
     "execution_count": 2,
     "metadata": {},
     "output_type": "execute_result"
    }
   ],
   "source": [
    "len(data)"
   ]
  },
  {
   "cell_type": "code",
   "execution_count": 3,
   "id": "29633e3b-ff24-4ace-a09b-c03b6e28c5cc",
   "metadata": {},
   "outputs": [
    {
     "name": "stdout",
     "output_type": "stream",
     "text": [
      "Total number of documents:  1161\n"
     ]
    }
   ],
   "source": [
    "from langchain.text_splitter import RecursiveCharacterTextSplitter\n",
    "\n",
    "# split data\n",
    "text_splitter = RecursiveCharacterTextSplitter(chunk_size=1000)\n",
    "docs = text_splitter.split_documents(data)\n",
    "\n",
    "\n",
    "print(\"Total number of documents: \",len(docs))"
   ]
  },
  {
   "cell_type": "code",
   "execution_count": 4,
   "id": "100b7d1a-1209-49d4-99ed-c51bc233a938",
   "metadata": {},
   "outputs": [
    {
     "data": {
      "text/plain": [
       "Document(metadata={'producer': 'Acrobat Distiller Server 6.0.1 (Sparc Solaris, Built: 2003-11-03)', 'creator': 'dvips(k) 5.95a Copyright 2005 Radical Eye Software', 'creationdate': '2007-12-06T02:28:52+05:30', 'author': 'Paul Ammann and Jeff Offutt', 'moddate': '2008-11-03T16:17:44-08:00', 'title': 'INTRODUCTION TO: SOFTWARE TESTING', 'source': 'Introduction to Software Testing.pdf', 'total_pages': 346, 'page': 6, 'page_label': '7'}, page_content='introtest CUUS047-Ammann ISBN 9780521880381 December 6, 2007 2:42 Char Count= 0\\nContents\\nList of Figures page ix\\nList of Tables xiii\\nPreface xv\\nPart 1 Overview 1\\n1 Introduction 3\\n1.1 Activities of a Test Engineer 4\\n1.1.1 Testing Levels Based on Software Activity 5\\n1.1.2 Beizer’s Testing Levels Based on Test Process\\nMaturity 8\\n1.1.3 Automation of Test Activities 10\\n1.2 Software Testing Limitations and Terminology 11\\n1.3 Coverage Criteria for Testing 16\\n1.3.1 Infeasibility and Subsumption 20\\n1.3.2 Characteristics of a Good Coverage Criterion 20\\n1.4 Older Software Testing Terminology 21\\n1.5 Bibliographic Notes 22\\nPart 2 Coverage Criteria 25\\n2 Graph Coverage 27\\n2.1 Overview 27\\n2.2 Graph Coverage Criteria 32\\n2.2.1 Structural Coverage Criteria 33\\n2.2.2 Data Flow Criteria 44\\n2.2.3 Subsumption Relationships among Graph Coverage\\nCriteria 50\\n2.3 Graph Coverage for Source Code 52\\nv')"
      ]
     },
     "execution_count": 4,
     "metadata": {},
     "output_type": "execute_result"
    }
   ],
   "source": [
    "docs[7]"
   ]
  },
  {
   "cell_type": "code",
   "execution_count": 5,
   "id": "1073ab7f-2632-4367-8dec-c19449d6ce71",
   "metadata": {},
   "outputs": [
    {
     "data": {
      "text/plain": [
       "[0.05168594419956207,\n",
       " -0.030764883384108543,\n",
       " -0.03062233328819275,\n",
       " -0.02802734263241291,\n",
       " 0.01813093200325966]"
      ]
     },
     "execution_count": 5,
     "metadata": {},
     "output_type": "execute_result"
    }
   ],
   "source": [
    "from langchain_chroma import Chroma\n",
    "from langchain_google_genai import GoogleGenerativeAIEmbeddings\n",
    "\n",
    "from dotenv import load_dotenv\n",
    "load_dotenv() \n",
    "\n",
    "#Get an API key: \n",
    "# Head to https://ai.google.dev/gemini-api/docs/api-key to generate a Google AI API key. Paste in .env file\n",
    "\n",
    "# Embedding models: https://python.langchain.com/v0.1/docs/integrations/text_embedding/\n",
    "\n",
    "embeddings = GoogleGenerativeAIEmbeddings(model=\"models/embedding-001\")\n",
    "vector = embeddings.embed_query(\"hello, world!\")\n",
    "vector[:5]\n",
    "#vector"
   ]
  },
  {
   "cell_type": "code",
   "execution_count": 6,
   "id": "688b6e6a-d8ab-41fb-a665-b72c9c9b4026",
   "metadata": {},
   "outputs": [],
   "source": [
    "vectorstore = Chroma.from_documents(documents=docs, embedding=GoogleGenerativeAIEmbeddings(model=\"models/embedding-001\"))"
   ]
  },
  {
   "cell_type": "code",
   "execution_count": 7,
   "id": "2c674c5c-1b57-42e9-a99d-9e882c75da2d",
   "metadata": {},
   "outputs": [],
   "source": [
    "retriever = vectorstore.as_retriever(search_type=\"similarity\", search_kwargs={\"k\": 10})\n",
    "\n",
    "retrieved_docs = retriever.invoke(\"What is new in yolov9?\")\n"
   ]
  },
  {
   "cell_type": "code",
   "execution_count": 8,
   "id": "04c5c6bb-fd0e-45ec-b315-e3f7656e0329",
   "metadata": {},
   "outputs": [
    {
     "data": {
      "text/plain": [
       "10"
      ]
     },
     "execution_count": 8,
     "metadata": {},
     "output_type": "execute_result"
    }
   ],
   "source": [
    "len(retrieved_docs)"
   ]
  },
  {
   "cell_type": "code",
   "execution_count": 9,
   "id": "8a1c8321-1efd-4a11-9744-0d1a7c6f4e0a",
   "metadata": {},
   "outputs": [
    {
     "name": "stdout",
     "output_type": "stream",
     "text": [
      "callee. Each class is given alevel in the yo-yo graph that shows the actual calls made\n",
      "if an object has the actual type of that level. Bold arrows are actual calls and light\n",
      "arrows are calls that cannot be made due to overriding.\n",
      "Consider the inheritance hierarchy from Figure 7.2. Assume that inA’s imple-\n",
      "mentation, d() calls g(), g() calls h(), h() calls i(), and i() calls j(). Further, assume\n",
      "that inB’s implementation,h() calls i(), i() calls its parent’s (that is,A’s) version of\n",
      "i(), andk() calls l(). Finally, assume that inC’s implementation,i() calls its parent’s\n",
      "(this timeB’s) version ofi(), andj() calls k().\n",
      "Figure 7.3 is a yo-yo graph of this situation and illustrates theactual sequence\n",
      "of calls if a call is made tod() through an instance of actual typeA, B, andC.T h e\n",
      "top level of the graph assumes that a call is made to methodd() through an object\n",
      "of actual typeA. This sequence of calls is simple and straightforward. The second\n"
     ]
    }
   ],
   "source": [
    "print(retrieved_docs[5].page_content)"
   ]
  },
  {
   "cell_type": "code",
   "execution_count": 10,
   "id": "7f991a1f-6ce9-4463-9941-b35014df94f6",
   "metadata": {},
   "outputs": [],
   "source": [
    "from langchain_google_genai import ChatGoogleGenerativeAI\n",
    "\n",
    "llm = ChatGoogleGenerativeAI(model=\"gemini-1.5-pro\",temperature=0.3, max_tokens=500)"
   ]
  },
  {
   "cell_type": "code",
   "execution_count": 15,
   "id": "6ee17439-7bc3-4931-9f57-4ec7e82ce902",
   "metadata": {},
   "outputs": [],
   "source": [
    "from langchain.chains import create_retrieval_chain\n",
    "from langchain.chains.combine_documents import create_stuff_documents_chain\n",
    "from langchain_core.prompts import ChatPromptTemplate\n",
    "\n",
    "system_prompt = (\n",
    "    \"You are an AI assistant for an online quiz system. \"\n",
    "    \"Use the provided context to generate multiple-choice questions (MCQs) along with correct answers. \"\n",
    "    \"Each question should have four options, with one correct answer clearly identified. \"\n",
    "    \"Ensure the questions are clear, relevant, and engaging.\"\n",
    "    \"\\n\\n\"\n",
    "    \"{context}\"\n",
    ")\n",
    "\n",
    "prompt = ChatPromptTemplate.from_messages(\n",
    "    [\n",
    "        (\"system\", system_prompt),\n",
    "        (\"human\", \"{input}\"),\n",
    "    ]\n",
    ")\n"
   ]
  },
  {
   "cell_type": "code",
   "execution_count": 16,
   "id": "266e86e0-746b-4943-9470-fd842633ed85",
   "metadata": {},
   "outputs": [],
   "source": [
    "question_answer_chain = create_stuff_documents_chain(llm, prompt)\n",
    "rag_chain = create_retrieval_chain(retriever, question_answer_chain)"
   ]
  },
  {
   "cell_type": "code",
   "execution_count": 18,
   "id": "9db9500d-4c51-4a10-9b21-f1ef9c8f985e",
   "metadata": {},
   "outputs": [
    {
     "name": "stdout",
     "output_type": "stream",
     "text": [
      "1. Which software development model is characterized by a sequential and linear progression through distinct phases, with each phase being completed before the next one begins?\n",
      "    a) Agile\n",
      "    b) Waterfall\n",
      "    c) Spiral\n",
      "    d) Iterative\n",
      "\n",
      "    **Correct Answer: b) Waterfall**\n",
      "\n",
      "2.  A key disadvantage of the Waterfall model is its:\n",
      "    a) Flexibility to adapt to changing requirements\n",
      "    b) Rigorous documentation at each phase\n",
      "    c) Difficulty in accommodating changes after a phase is complete\n",
      "    d) Early detection of defects through continuous testing\n",
      "\n",
      "    **Correct Answer: c) Difficulty in accommodating changes after a phase is complete**\n",
      "\n",
      "3. In the Waterfall model, which phase typically follows the design phase?\n",
      "    a) Requirements gathering\n",
      "    b) Testing\n",
      "    c) Implementation\n",
      "    d) Deployment\n",
      "\n",
      "    **Correct Answer: c) Implementation**\n",
      "\n",
      "4. The Waterfall model is most suitable for projects where:\n",
      "    a) Requirements are constantly evolving\n",
      "    b) Rapid prototyping is essential\n",
      "    c) Requirements are well-defined and stable\n",
      "    d) User feedback is continuously integrated\n",
      "\n",
      "    **Correct Answer: c) Requirements are well-defined and stable**\n",
      "\n",
      "5. Which of the following is NOT a phase in the Waterfall model?\n",
      "    a) Design\n",
      "    b) Testing\n",
      "    c) Sprints\n",
      "    d) Deployment\n",
      "\n",
      "    **Correct Answer: c) Sprints**\n"
     ]
    }
   ],
   "source": [
    "response = rag_chain.invoke({\"input\": \"generate questions about waterfall method \"})\n",
    "print(response[\"answer\"])"
   ]
  },
  {
   "cell_type": "code",
   "execution_count": null,
   "id": "7cff65d0-2436-47f8-8572-6979a3378701",
   "metadata": {},
   "outputs": [],
   "source": []
  },
  {
   "cell_type": "code",
   "execution_count": null,
   "id": "1b122b4c-7ede-4b55-87aa-5aa97aedbc72",
   "metadata": {},
   "outputs": [],
   "source": []
  },
  {
   "cell_type": "code",
   "execution_count": null,
   "id": "f52e9d54-6d89-492e-b521-c1c73cdde4bc",
   "metadata": {},
   "outputs": [],
   "source": []
  }
 ],
 "metadata": {
  "kernelspec": {
   "display_name": "Python 3 (ipykernel)",
   "language": "python",
   "name": "python3"
  },
  "language_info": {
   "codemirror_mode": {
    "name": "ipython",
    "version": 3
   },
   "file_extension": ".py",
   "mimetype": "text/x-python",
   "name": "python",
   "nbconvert_exporter": "python",
   "pygments_lexer": "ipython3",
   "version": "3.13.2"
  }
 },
 "nbformat": 4,
 "nbformat_minor": 5
}
